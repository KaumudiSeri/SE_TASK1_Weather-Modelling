{
  "nbformat": 4,
  "nbformat_minor": 0,
  "metadata": {
    "colab": {
      "provenance": [],
      "authorship_tag": "ABX9TyN4jD9QuElSvgjaociZQZeU",
      "include_colab_link": true
    },
    "kernelspec": {
      "name": "python3",
      "display_name": "Python 3"
    },
    "language_info": {
      "name": "python"
    }
  },
  "cells": [
    {
      "cell_type": "markdown",
      "metadata": {
        "id": "view-in-github",
        "colab_type": "text"
      },
      "source": [
        "<a href=\"https://colab.research.google.com/github/KaumudiSeri/SE_TASK1_Weather-Modelling/blob/main/Weather_Modelling.ipynb\" target=\"_parent\"><img src=\"https://colab.research.google.com/assets/colab-badge.svg\" alt=\"Open In Colab\"/></a>"
      ]
    },
    {
      "cell_type": "markdown",
      "source": [
        "##Weather Modelling using quadratic solution in stages: hard coding variables keyboard input,read from a file, for a single set of input, multiple sets of inputs"
      ],
      "metadata": {
        "id": "6OYMVsBnl4Du"
      }
    },
    {
      "cell_type": "code",
      "source": [
        "def temperature_modelling(a,b,c,time):\n",
        "    temperature = a*time**2+b*time+c\n",
        "    return temperature"
      ],
      "metadata": {
        "id": "4iz70gvNl8ir"
      },
      "execution_count": 12,
      "outputs": []
    },
    {
      "cell_type": "code",
      "source": [
        "# Hardcoded variables\n",
        "a,b,c=0.1,2,10\n",
        "time=5"
      ],
      "metadata": {
        "id": "ox6aJWhFmAK1"
      },
      "execution_count": 13,
      "outputs": []
    },
    {
      "cell_type": "code",
      "source": [
        "print(\"The predicted temperature at time\", time,\"hours:\",temperature_modelling(a,b,c,time))"
      ],
      "metadata": {
        "colab": {
          "base_uri": "https://localhost:8080/"
        },
        "id": "gUJT49g7m3yc",
        "outputId": "c340d326-5307-4702-d444-612a77c38d9b"
      },
      "execution_count": 14,
      "outputs": [
        {
          "output_type": "stream",
          "name": "stdout",
          "text": [
            "The predicted temperature at time 5 hours: 22.5\n"
          ]
        }
      ]
    },
    {
      "cell_type": "code",
      "source": [
        "a=float(input(\"Enter the value of coefficient a: \"))\n",
        "b=float(input(\"Enter the value of coefficient b: \"))\n",
        "c=float(input(\"Enter the value of coefficient c: \"))"
      ],
      "metadata": {
        "colab": {
          "base_uri": "https://localhost:8080/"
        },
        "id": "AlRM4xJlm7Zz",
        "outputId": "3ec8d89b-74b6-4367-d6c0-685e5e64e94c"
      },
      "execution_count": 15,
      "outputs": [
        {
          "name": "stdout",
          "output_type": "stream",
          "text": [
            "Enter the value of coefficient a: 3\n",
            "Enter the value of coefficient b: -2\n",
            "Enter the value of coefficient c: -4\n"
          ]
        }
      ]
    },
    {
      "cell_type": "code",
      "source": [
        "time=float(input(\"Enter the value of time: \"))"
      ],
      "metadata": {
        "colab": {
          "base_uri": "https://localhost:8080/"
        },
        "id": "bGvtx6E-nLsS",
        "outputId": "ec97c2bf-b99b-4be8-ff45-51f5bb845a20"
      },
      "execution_count": 16,
      "outputs": [
        {
          "name": "stdout",
          "output_type": "stream",
          "text": [
            "Enter the value of time: 7\n"
          ]
        }
      ]
    },
    {
      "cell_type": "code",
      "source": [
        "# Variables read from keyboard\n",
        "print(\"Hard coded variables for weather modelling\")\n",
        "print(\"The predicted temperature at time\", time,\"hours:\",temperature_modelling(a,b,c,time))\n"
      ],
      "metadata": {
        "colab": {
          "base_uri": "https://localhost:8080/"
        },
        "id": "04UF0yQOnZxk",
        "outputId": "529a9055-7d84-4085-faba-4e76f7abaee5"
      },
      "execution_count": 17,
      "outputs": [
        {
          "output_type": "stream",
          "name": "stdout",
          "text": [
            "Hard coded variables for weather modelling\n",
            "The predicted temperature at time 7.0 hours: 129.0\n"
          ]
        }
      ]
    },
    {
      "cell_type": "code",
      "source": [
        "# Read coeeficients form a file\n",
        "def read_from_file(filename):\n",
        "    with open(filename, 'r') as file:\n",
        "        lines = file.readlines()\n",
        "    coefficients=[tuple(map(float,line.strip().split(','))) for line in lines]\n",
        "    return coefficients"
      ],
      "metadata": {
        "id": "mcGpuz8wpWMg"
      },
      "execution_count": 24,
      "outputs": []
    },
    {
      "cell_type": "code",
      "source": [
        "# Solve for single set of inputs\n",
        "coefficients=read_from_file('/content/SE_1_INPUT.txt')\n",
        "a,b,c,time=coefficients[0]\n",
        "temperature=temperature_modelling(a,b,c,time)\n",
        "print(\"Read from file variables for weather modelling\")\n",
        "print(\"Temperature from keyboard coeficients at time\", time,\"hours:\",temperature_modelling(a,b,c,time))"
      ],
      "metadata": {
        "colab": {
          "base_uri": "https://localhost:8080/"
        },
        "id": "fhllnn2uurjL",
        "outputId": "145d2c2c-70bf-4e38-a7e0-9a9d5daa37b2"
      },
      "execution_count": 26,
      "outputs": [
        {
          "output_type": "stream",
          "name": "stdout",
          "text": [
            "Read from file variables for weather modelling\n",
            "Temperature from keyboard coeficients at time 5.0 hours: 2.0\n"
          ]
        }
      ]
    },
    {
      "cell_type": "code",
      "source": [
        "# Solve for all sets in the file\n",
        "for idx,coefficients in enumerate(coefficients):\n",
        "    a,b,c,time=coefficients\n",
        "    temperature=temperature_modelling(a,b,c,time)\n",
        "    print(\"Temperature from keyboard coefficients at time\",time,\"hours:\",temperature_modelling(a,b,c,time))"
      ],
      "metadata": {
        "colab": {
          "base_uri": "https://localhost:8080/"
        },
        "id": "JQ-bbDO9u7kR",
        "outputId": "26b88ad6-8f30-480f-840e-03188b0a3aa3"
      },
      "execution_count": 27,
      "outputs": [
        {
          "output_type": "stream",
          "name": "stdout",
          "text": [
            "Temperature from keyboard coefficients at time 5.0 hours: 2.0\n",
            "Temperature from keyboard coefficients at time 3.0 hours: 0.0\n",
            "Temperature from keyboard coefficients at time 2.5 hours: 16.5\n",
            "Temperature from keyboard coefficients at time 2.0 hours: 15.0\n"
          ]
        }
      ]
    }
  ]
}